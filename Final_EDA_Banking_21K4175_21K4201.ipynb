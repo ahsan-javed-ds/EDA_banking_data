{
 "cells": [
  {
   "cell_type": "markdown",
   "id": "7bd8013c",
   "metadata": {},
   "source": [
    "# EDA Analysis of Banking Data\n",
    "\n",
    "### Submitted by Ahsan (K21-4175) & Quamber (K21-4201)"
   ]
  },
  {
   "cell_type": "markdown",
   "id": "efd2ef5e",
   "metadata": {},
   "source": [
    "# Importing Libraries"
   ]
  },
  {
   "cell_type": "code",
   "execution_count": 30,
   "id": "e107fd6a",
   "metadata": {},
   "outputs": [],
   "source": [
    "import matplotlib.pyplot as plt\n",
    "import random\n",
    "import numpy as np\n",
    "import pandas as pd\n",
    "import seaborn as sns\n",
    "from io import StringIO\n",
    "from scipy.stats import chi2_contingency\n",
    "from sklearn.preprocessing import LabelEncoder\n",
    "import scipy.stats as stats"
   ]
  },
  {
   "cell_type": "markdown",
   "id": "48c9324f",
   "metadata": {},
   "source": [
    "# Bank Client Data:\n",
    "\n",
    "1 - age (numeric)\n",
    "\n",
    "2 - job : type of job (categorical: \"admin.\",\"unknown\",\"unemployed\",\"management\",\"housemaid\",\"entrepreneur\",\"student\",\n",
    "\"blue-collar\",\"self-employed\",\"retired\",\"technician\",\"services\")\n",
    "\n",
    "3 - marital : marital status (categorical: \"married\",\"divorced\",\"single\"; note: \"divorced\" means divorced or widowed)\n",
    "\n",
    "4 - education (categorical: \"unknown\",\"secondary\",\"primary\",\"tertiary\")\n",
    "\n",
    "5 - default: has credit in default? (binary: \"yes\",\"no\")\n",
    "\n",
    "6 - balance: average yearly balance, in euros (numeric)\n",
    "\n",
    "7 - housing: has housing loan? (binary: \"yes\",\"no\")\n",
    "\n",
    "8 - loan: has personal loan? (binary: \"yes\",\"no\")\n",
    "\n",
    "9 - contact: contact communication type (categorical: \"unknown\",\"telephone\",\"cellular\")\n",
    "\n",
    "10 - day: last contact day of the month (numeric)\n",
    "\n",
    "11 - month: last contact month of year (categorical: \"jan\", \"feb\", \"mar\", …, \"nov\", \"dec\")\n",
    "\n",
    "12 - duration: last contact duration, in seconds (numeric)\n",
    "\n",
    "13 - campaign: number of contacts performed during this campaign and for this client (numeric, includes last contact)\n",
    "\n",
    "14 - pdays: number of days that passed by after the client was last contacted from a previous campaign (numeric, -1 means client was not previously contacted)\n",
    "\n",
    "15 - previous: number of contacts performed before this campaign and for this client (numeric)\n",
    "\n",
    "16 - poutcome: outcome of the previous marketing campaign (categorical: \"unknown\",\"other\",\"failure\",\"success\")\n",
    "\n",
    "Output variable (desired target):\n",
    "\n",
    "17 - y - has the client subscribed a term deposit? (binary: \"yes\",\"no\")"
   ]
  },
  {
   "cell_type": "code",
   "execution_count": 3,
   "id": "d16cd32a",
   "metadata": {},
   "outputs": [
    {
     "name": "stdout",
     "output_type": "stream",
     "text": [
      "       age           job   marital  education default  balance housing loan  \\\n",
      "0       58    management   married   tertiary      no     2143     yes   no   \n",
      "1       44    technician    single  secondary      no       29     yes   no   \n",
      "2       33  entrepreneur   married  secondary      no        2     yes  yes   \n",
      "3       47   blue-collar   married    unknown      no     1506     yes   no   \n",
      "4       33       unknown    single    unknown      no        1      no   no   \n",
      "...    ...           ...       ...        ...     ...      ...     ...  ...   \n",
      "45206   51    technician   married   tertiary      no      825      no   no   \n",
      "45207   71       retired  divorced    primary      no     1729      no   no   \n",
      "45208   72       retired   married  secondary      no     5715      no   no   \n",
      "45209   57   blue-collar   married  secondary      no      668      no   no   \n",
      "45210   37  entrepreneur   married  secondary      no     2971      no   no   \n",
      "\n",
      "         contact  day month  duration  campaign  pdays  previous poutcome    y  \n",
      "0        unknown    5   may       261         1     -1         0  unknown   no  \n",
      "1        unknown    5   may       151         1     -1         0  unknown   no  \n",
      "2        unknown    5   may        76         1     -1         0  unknown   no  \n",
      "3        unknown    5   may        92         1     -1         0  unknown   no  \n",
      "4        unknown    5   may       198         1     -1         0  unknown   no  \n",
      "...          ...  ...   ...       ...       ...    ...       ...      ...  ...  \n",
      "45206   cellular   17   nov       977         3     -1         0  unknown  yes  \n",
      "45207   cellular   17   nov       456         2     -1         0  unknown  yes  \n",
      "45208   cellular   17   nov      1127         5    184         3  success  yes  \n",
      "45209  telephone   17   nov       508         4     -1         0  unknown   no  \n",
      "45210   cellular   17   nov       361         2    188        11    other   no  \n",
      "\n",
      "[45211 rows x 17 columns]\n"
     ]
    }
   ],
   "source": [
    "file_read = pd.read_csv(\"dataset/train.csv\", sep=';')\n",
    "df = pd.DataFrame(file_read, index=None)\n",
    "print(df)"
   ]
  },
  {
   "cell_type": "markdown",
   "id": "d4c8808b",
   "metadata": {},
   "source": [
    "# Checking for Duplicates values"
   ]
  },
  {
   "cell_type": "code",
   "execution_count": 4,
   "id": "adae99c9",
   "metadata": {},
   "outputs": [
    {
     "name": "stdout",
     "output_type": "stream",
     "text": [
      "0\n"
     ]
    }
   ],
   "source": [
    "count = df.duplicated().sum()\n",
    "print(count)"
   ]
  },
  {
   "cell_type": "markdown",
   "id": "a5e5b8e0",
   "metadata": {},
   "source": [
    "# Checking for NULL values"
   ]
  },
  {
   "cell_type": "code",
   "execution_count": 5,
   "id": "0113b624",
   "metadata": {},
   "outputs": [
    {
     "data": {
      "text/plain": [
       "age          0\n",
       "job          0\n",
       "marital      0\n",
       "education    0\n",
       "default      0\n",
       "balance      0\n",
       "housing      0\n",
       "loan         0\n",
       "contact      0\n",
       "day          0\n",
       "month        0\n",
       "duration     0\n",
       "campaign     0\n",
       "pdays        0\n",
       "previous     0\n",
       "poutcome     0\n",
       "y            0\n",
       "dtype: int64"
      ]
     },
     "execution_count": 5,
     "metadata": {},
     "output_type": "execute_result"
    }
   ],
   "source": [
    "df.isnull().sum()"
   ]
  },
  {
   "cell_type": "markdown",
   "id": "6ab51cf8",
   "metadata": {},
   "source": [
    "# Analysing the Job attribute of the dataset"
   ]
  },
  {
   "cell_type": "code",
   "execution_count": 6,
   "id": "0f8fbb9a",
   "metadata": {},
   "outputs": [
    {
     "data": {
      "image/png": "[encoded data removed]",
      "text/plain": [
       "<Figure size 432x288 with 1 Axes>"
      ]
     },
     "metadata": {
      "needs_background": "light"
     },
     "output_type": "display_data"
    }
   ],
   "source": [
    "df.job.value_counts()\n",
    "\n",
    "#plot the bar graph of percentage job categories\n",
    "df.job.value_counts().plot.barh()\n",
    "plt.show()"
   ]
  },
  {
   "cell_type": "markdown",
   "id": "1e724ada",
   "metadata": {},
   "source": [
    "# Analysing the Education attribute of the dataset"
   ]
  },
  {
   "cell_type": "code",
   "execution_count": 7,
   "id": "85c4df8c",
   "metadata": {},
   "outputs": [
    {
     "data": {
      "image/png": "[encoded data removed]",
      "text/plain": [
       "<Figure size 432x288 with 1 Axes>"
      ]
     },
     "metadata": {},
     "output_type": "display_data"
    }
   ],
   "source": [
    "df.education.value_counts(normalize=True)\n",
    "\n",
    "df.education.value_counts(normalize=True).plot.pie()\n",
    "plt.show()"
   ]
  },
  {
   "cell_type": "markdown",
   "id": "8916e5ec",
   "metadata": {},
   "source": [
    "# Analysing the Marital Status attribute of the dataset"
   ]
  },
  {
   "cell_type": "code",
   "execution_count": 20,
   "id": "a3f358d9",
   "metadata": {},
   "outputs": [
    {
     "data": {
      "image/png": "[encoded data removed]",
      "text/plain": [
       "<Figure size 432x288 with 1 Axes>"
      ]
     },
     "metadata": {
      "needs_background": "light"
     },
     "output_type": "display_data"
    }
   ],
   "source": [
    "import matplotlib.pyplot as plt\n",
    "\n",
    "df.marital.value_counts()\n",
    "\n",
    "#plot the bar graph of percentage job categories\n",
    "df.marital.value_counts().plot.bar()\n",
    "plt.show()"
   ]
  },
  {
   "cell_type": "markdown",
   "id": "4812b98d",
   "metadata": {},
   "source": [
    "# Checking the month in which more calls have been made"
   ]
  },
  {
   "cell_type": "code",
   "execution_count": 8,
   "id": "e83aa0c9",
   "metadata": {
    "scrolled": true
   },
   "outputs": [
    {
     "data": {
      "image/png": "[encoded data removed]",
      "text/plain": [
       "<Figure size 432x288 with 1 Axes>"
      ]
     },
     "metadata": {
      "needs_background": "light"
     },
     "output_type": "display_data"
    }
   ],
   "source": [
    "import matplotlib.pyplot as plt\n",
    "\n",
    "df.month.value_counts()\n",
    "\n",
    "#plot the bar graph of percentage job categories\n",
    "df.month.value_counts().plot.bar()\n",
    "plt.show()"
   ]
  },
  {
   "cell_type": "markdown",
   "id": "bce272ac",
   "metadata": {},
   "source": [
    "# Describing Multiple Features of the Dataset"
   ]
  },
  {
   "cell_type": "code",
   "execution_count": 11,
   "id": "12deeefc",
   "metadata": {},
   "outputs": [
    {
     "data": {
      "text/plain": [
       "count     45211.000000\n",
       "mean       1362.272058\n",
       "std        3044.765829\n",
       "min       -8019.000000\n",
       "25%          72.000000\n",
       "50%         448.000000\n",
       "75%        1428.000000\n",
       "max      102127.000000\n",
       "Name: balance, dtype: float64"
      ]
     },
     "execution_count": 11,
     "metadata": {},
     "output_type": "execute_result"
    }
   ],
   "source": [
    "df.balance.describe()"
   ]
  },
  {
   "cell_type": "code",
   "execution_count": 12,
   "id": "1d5a14b8",
   "metadata": {},
   "outputs": [
    {
     "data": {
      "text/plain": [
       "count     45211\n",
       "unique        2\n",
       "top          no\n",
       "freq      37967\n",
       "Name: loan, dtype: object"
      ]
     },
     "execution_count": 12,
     "metadata": {},
     "output_type": "execute_result"
    }
   ],
   "source": [
    "df.loan.describe()"
   ]
  },
  {
   "cell_type": "code",
   "execution_count": 13,
   "id": "ecc91778",
   "metadata": {},
   "outputs": [
    {
     "data": {
      "text/plain": [
       "count     45211\n",
       "unique        2\n",
       "top         yes\n",
       "freq      25130\n",
       "Name: housing, dtype: object"
      ]
     },
     "execution_count": 13,
     "metadata": {},
     "output_type": "execute_result"
    }
   ],
   "source": [
    "df.housing.describe()"
   ]
  },
  {
   "cell_type": "code",
   "execution_count": 14,
   "id": "bb155067",
   "metadata": {},
   "outputs": [
    {
     "data": {
      "text/plain": [
       "count    45211.000000\n",
       "mean         2.763841\n",
       "std          3.098021\n",
       "min          1.000000\n",
       "25%          1.000000\n",
       "50%          2.000000\n",
       "75%          3.000000\n",
       "max         63.000000\n",
       "Name: campaign, dtype: float64"
      ]
     },
     "execution_count": 14,
     "metadata": {},
     "output_type": "execute_result"
    }
   ],
   "source": [
    "df.campaign.describe()"
   ]
  },
  {
   "cell_type": "code",
   "execution_count": 15,
   "id": "7ee5a08f",
   "metadata": {},
   "outputs": [
    {
     "data": {
      "text/plain": [
       "count    45211.000000\n",
       "mean        40.197828\n",
       "std        100.128746\n",
       "min         -1.000000\n",
       "25%         -1.000000\n",
       "50%         -1.000000\n",
       "75%         -1.000000\n",
       "max        871.000000\n",
       "Name: pdays, dtype: float64"
      ]
     },
     "execution_count": 15,
     "metadata": {},
     "output_type": "execute_result"
    }
   ],
   "source": [
    "df.pdays.describe()"
   ]
  },
  {
   "cell_type": "code",
   "execution_count": 16,
   "id": "e6a3e37a",
   "metadata": {},
   "outputs": [
    {
     "data": {
      "text/plain": [
       "count     45211\n",
       "unique        2\n",
       "top          no\n",
       "freq      44396\n",
       "Name: default, dtype: object"
      ]
     },
     "execution_count": 16,
     "metadata": {},
     "output_type": "execute_result"
    }
   ],
   "source": [
    "df.default.describe()"
   ]
  },
  {
   "cell_type": "code",
   "execution_count": 17,
   "id": "eafab5e8",
   "metadata": {},
   "outputs": [
    {
     "data": {
      "text/plain": [
       "count    45211.000000\n",
       "mean         0.580323\n",
       "std          2.303441\n",
       "min          0.000000\n",
       "25%          0.000000\n",
       "50%          0.000000\n",
       "75%          0.000000\n",
       "max        275.000000\n",
       "Name: previous, dtype: float64"
      ]
     },
     "execution_count": 17,
     "metadata": {},
     "output_type": "execute_result"
    }
   ],
   "source": [
    "df.previous.describe()"
   ]
  },
  {
   "cell_type": "markdown",
   "id": "06955995",
   "metadata": {},
   "source": [
    "# Comparing Age, Duration, Balance and Outcome of current campaign"
   ]
  },
  {
   "cell_type": "code",
   "execution_count": 64,
   "id": "096c7f66",
   "metadata": {},
   "outputs": [
    {
     "data": {
      "image/png": "[encoded data removed]",
      "text/plain": [
       "<Figure size 1080x360 with 1 Axes>"
      ]
     },
     "metadata": {
      "needs_background": "light"
     },
     "output_type": "display_data"
    },
    {
     "data": {
      "image/png": "[encoded data removed]",
      "text/plain": [
       "<Figure size 1080x360 with 1 Axes>"
      ]
     },
     "metadata": {
      "needs_background": "light"
     },
     "output_type": "display_data"
    }
   ],
   "source": [
    "df.plot.scatter(x=\"balance\",y=\"y\",figsize = (15,5))\n",
    "plt.show()\n",
    "\n",
    "\n",
    "df.plot.scatter(x=\"age\",y=\"balance\",figsize = (15,5))\n",
    "plt.show()\n"
   ]
  },
  {
   "cell_type": "markdown",
   "id": "6bbf75fd",
   "metadata": {},
   "source": [
    "# Correlation Matrix Between all attributes"
   ]
  },
  {
   "cell_type": "code",
   "execution_count": 20,
   "id": "28b193f7",
   "metadata": {},
   "outputs": [
    {
     "data": {
      "image/png": "[encoded data removed]",
      "text/plain": [
       "<Figure size 1080x720 with 2 Axes>"
      ]
     },
     "metadata": {
      "needs_background": "light"
     },
     "output_type": "display_data"
    }
   ],
   "source": [
    "df[['age', 'job','marital','education','default','balance','housing','loan','contact','day','month','duration','campaign','pdays','previous','poutcome','y']].corr()\n",
    "plt.subplots(figsize=(15,10))\n",
    "#plot the correlation matrix of salary, balance and age in data dataframe.\n",
    "sns.heatmap(df[['age', 'job','marital','education','default','balance','housing','loan','contact','day','month','duration','campaign','pdays','previous','poutcome','y']].corr(), annot=True, cmap = 'Reds')\n",
    "\n",
    "\n",
    "plt.show()"
   ]
  },
  {
   "cell_type": "code",
   "execution_count": 21,
   "id": "2c7406c6",
   "metadata": {},
   "outputs": [
    {
     "data": {
      "text/plain": [
       "y\n",
       "no     1303.714969\n",
       "yes    1804.267915\n",
       "Name: balance, dtype: float64"
      ]
     },
     "execution_count": 21,
     "metadata": {},
     "output_type": "execute_result"
    }
   ],
   "source": [
    "df.groupby('y')['balance'].mean()"
   ]
  },
  {
   "cell_type": "code",
   "execution_count": 22,
   "id": "16579c3d",
   "metadata": {},
   "outputs": [
    {
     "data": {
      "text/plain": [
       "y\n",
       "no     417.0\n",
       "yes    733.0\n",
       "Name: balance, dtype: float64"
      ]
     },
     "execution_count": 22,
     "metadata": {},
     "output_type": "execute_result"
    }
   ],
   "source": [
    "df.groupby('y')['balance'].median()"
   ]
  },
  {
   "cell_type": "markdown",
   "id": "808e0d6b",
   "metadata": {},
   "source": [
    "# The people who takes home loan, also takes personal loan as well. Is it true?"
   ]
  },
  {
   "cell_type": "markdown",
   "id": "a485a22e",
   "metadata": {},
   "source": [
    "H₀: The House Loan Variable and Personal Loan Variable have no relationship                                                                          \n",
    "\n",
    "H₁: There is a relationship between House Loan and Personal Loan variables"
   ]
  },
  {
   "cell_type": "code",
   "execution_count": 23,
   "id": "2142eb24",
   "metadata": {},
   "outputs": [
    {
     "data": {
      "text/html": [
       "<div>\n",
       "<style scoped>\n",
       "    .dataframe tbody tr th:only-of-type {\n",
       "        vertical-align: middle;\n",
       "    }\n",
       "\n",
       "    .dataframe tbody tr th {\n",
       "        vertical-align: top;\n",
       "    }\n",
       "\n",
       "    .dataframe thead th {\n",
       "        text-align: right;\n",
       "    }\n",
       "</style>\n",
       "<table border=\"1\" class=\"dataframe\">\n",
       "  <thead>\n",
       "    <tr style=\"text-align: right;\">\n",
       "      <th></th>\n",
       "      <th>housing</th>\n",
       "      <th>loan</th>\n",
       "    </tr>\n",
       "  </thead>\n",
       "  <tbody>\n",
       "    <tr>\n",
       "      <th>0</th>\n",
       "      <td>yes</td>\n",
       "      <td>no</td>\n",
       "    </tr>\n",
       "    <tr>\n",
       "      <th>1</th>\n",
       "      <td>yes</td>\n",
       "      <td>no</td>\n",
       "    </tr>\n",
       "    <tr>\n",
       "      <th>2</th>\n",
       "      <td>yes</td>\n",
       "      <td>yes</td>\n",
       "    </tr>\n",
       "    <tr>\n",
       "      <th>3</th>\n",
       "      <td>yes</td>\n",
       "      <td>no</td>\n",
       "    </tr>\n",
       "    <tr>\n",
       "      <th>4</th>\n",
       "      <td>no</td>\n",
       "      <td>no</td>\n",
       "    </tr>\n",
       "  </tbody>\n",
       "</table>\n",
       "</div>"
      ],
      "text/plain": [
       "  housing loan\n",
       "0     yes   no\n",
       "1     yes   no\n",
       "2     yes  yes\n",
       "3     yes   no\n",
       "4      no   no"
      ]
     },
     "execution_count": 23,
     "metadata": {},
     "output_type": "execute_result"
    }
   ],
   "source": [
    "data =  file_read[['housing','loan']]\n",
    "data.head()"
   ]
  },
  {
   "cell_type": "code",
   "execution_count": 24,
   "id": "c2f92e2a",
   "metadata": {},
   "outputs": [
    {
     "data": {
      "text/html": [
       "<div>\n",
       "<style scoped>\n",
       "    .dataframe tbody tr th:only-of-type {\n",
       "        vertical-align: middle;\n",
       "    }\n",
       "\n",
       "    .dataframe tbody tr th {\n",
       "        vertical-align: top;\n",
       "    }\n",
       "\n",
       "    .dataframe thead th {\n",
       "        text-align: right;\n",
       "    }\n",
       "</style>\n",
       "<table border=\"1\" class=\"dataframe\">\n",
       "  <thead>\n",
       "    <tr style=\"text-align: right;\">\n",
       "      <th>loan</th>\n",
       "      <th>no</th>\n",
       "      <th>yes</th>\n",
       "    </tr>\n",
       "    <tr>\n",
       "      <th>housing</th>\n",
       "      <th></th>\n",
       "      <th></th>\n",
       "    </tr>\n",
       "  </thead>\n",
       "  <tbody>\n",
       "    <tr>\n",
       "      <th>no</th>\n",
       "      <td>17204</td>\n",
       "      <td>2877</td>\n",
       "    </tr>\n",
       "    <tr>\n",
       "      <th>yes</th>\n",
       "      <td>20763</td>\n",
       "      <td>4367</td>\n",
       "    </tr>\n",
       "  </tbody>\n",
       "</table>\n",
       "</div>"
      ],
      "text/plain": [
       "loan        no   yes\n",
       "housing             \n",
       "no       17204  2877\n",
       "yes      20763  4367"
      ]
     },
     "execution_count": 24,
     "metadata": {},
     "output_type": "execute_result"
    }
   ],
   "source": [
    "contigency= pd.crosstab(data['housing'], df['loan'])\n",
    "contigency"
   ]
  },
  {
   "cell_type": "code",
   "execution_count": 25,
   "id": "30879a2a",
   "metadata": {},
   "outputs": [
    {
     "name": "stdout",
     "output_type": "stream",
     "text": [
      "p value is 1.7315256945310098e-18\n",
      "Dependent (reject H0)\n"
     ]
    }
   ],
   "source": [
    "stat, p, dof, expected = chi2_contingency(contigency)\n",
    "\n",
    "alpha = 0.05\n",
    "print(\"p value is \" + str(p))\n",
    "if p <= alpha:\n",
    "    print('Dependent (reject H0)')\n",
    "else:\n",
    "    print('Independent (H0 holds true)')"
   ]
  },
  {
   "cell_type": "markdown",
   "id": "5df55566",
   "metadata": {},
   "source": [
    "# Using ANOVA, Checking if the marketing team approach customer with respect to their job title?"
   ]
  },
  {
   "cell_type": "markdown",
   "id": "f5bfe8e5",
   "metadata": {},
   "source": [
    "Null Hypothesis – There is no significant difference among the groups\n",
    "\n",
    "Alternate Hypothesis – There is a significant difference among the groups"
   ]
  },
  {
   "cell_type": "code",
   "execution_count": 36,
   "id": "a59d919f",
   "metadata": {},
   "outputs": [],
   "source": [
    "\n",
    "np.random.seed(1234)\n",
    "dataNew=pd.DataFrame({\n",
    "'management':random.sample(list(file_read['duration'][file_read['job']=='management']),10),\n",
    "'technician':random.sample(list(file_read['duration'][file_read['job']=='technician']),10),\n",
    "'entrepreneur':random.sample(list(file_read['duration'][file_read['job']=='entrepreneur']),10),\n",
    "'blue-collar':random.sample(list(file_read['duration'][file_read['job']=='blue-collar']),10),\n",
    "'unknown':random.sample(list(file_read['duration'][file_read['job']=='unknown']),10),\n",
    "'retired':random.sample(list(file_read['duration'][file_read['job']=='retired']),10),\n",
    "'admin.':random.sample(list(file_read['duration'][file_read['job']=='admin.']),10),\n",
    "'services':random.sample(list(file_read['duration'][file_read['job']=='services']),10),\n",
    "'self-employed':random.sample(list(file_read['duration'][file_read['job']=='self-employed']),10),\n",
    "'unemployed':random.sample(list(file_read['duration'][file_read['job']=='unemployed']),10),\n",
    "'housemaid':random.sample(list(file_read['duration'][file_read['job']=='housemaid']),10),\n",
    "'student':random.sample(list(file_read['duration'][file_read['job']=='student']),10)\n",
    "})\n",
    "\n"
   ]
  },
  {
   "cell_type": "code",
   "execution_count": 37,
   "id": "e6456e36",
   "metadata": {},
   "outputs": [
    {
     "name": "stdout",
     "output_type": "stream",
     "text": [
      "F-Statistic=0.556, p=0.861\n"
     ]
    }
   ],
   "source": [
    "F, p = stats.f_oneway(dataNew['management'],dataNew['technician'],dataNew['entrepreneur'],dataNew['blue-collar'],dataNew['unknown'],dataNew['retired'],dataNew['admin.'],dataNew['services'],dataNew['self-employed'],dataNew['unemployed'],dataNew['housemaid'],dataNew['student'])\n",
    "# Seeing if the overall model is significant\n",
    "print('F-Statistic=%.3f, p=%.3f' % (F, p))"
   ]
  },
  {
   "cell_type": "markdown",
   "id": "24a4b20c",
   "metadata": {},
   "source": [
    "We see that p-value > 0.05. Hence, we do not reject the Null Hypothesis – There is no significant difference among the groups."
   ]
  },
  {
   "cell_type": "markdown",
   "id": "2cc7e61e",
   "metadata": {},
   "source": [
    "# Analysing the outcomes of the previous campaign"
   ]
  },
  {
   "cell_type": "code",
   "execution_count": 9,
   "id": "91b0c67c",
   "metadata": {},
   "outputs": [
    {
     "data": {
      "image/png": "[encoded data removed]",
      "text/plain": [
       "<Figure size 432x288 with 1 Axes>"
      ]
     },
     "metadata": {
      "needs_background": "light"
     },
     "output_type": "display_data"
    }
   ],
   "source": [
    "import matplotlib.pyplot as plt\n",
    "\n",
    "df.poutcome.value_counts(normalize=False)\n",
    "\n",
    "#plot the bar graph of percentage job categories\n",
    "df.poutcome.value_counts(normalize=False).plot.barh()\n",
    "plt.show()"
   ]
  },
  {
   "cell_type": "markdown",
   "id": "aa4f23ab",
   "metadata": {},
   "source": [
    "# Analysing the success rate of current campaign"
   ]
  },
  {
   "cell_type": "code",
   "execution_count": 10,
   "id": "474472c4",
   "metadata": {},
   "outputs": [
    {
     "data": {
      "image/png": "[encoded data removed]",
      "text/plain": [
       "<Figure size 432x288 with 1 Axes>"
      ]
     },
     "metadata": {
      "needs_background": "light"
     },
     "output_type": "display_data"
    }
   ],
   "source": [
    "import matplotlib.pyplot as plt\n",
    "\n",
    "df.y.value_counts()\n",
    "\n",
    "#plot the bar graph of percentage job categories\n",
    "df.y.value_counts().plot.barh()\n",
    "plt.show()"
   ]
  },
  {
   "cell_type": "markdown",
   "id": "f842257c",
   "metadata": {},
   "source": [
    "# Comparing the \"y\" with \"Poutcomes\""
   ]
  },
  {
   "cell_type": "code",
   "execution_count": 70,
   "id": "76d14732",
   "metadata": {},
   "outputs": [
    {
     "data": {
      "text/plain": [
       "<AxesSubplot:ylabel='poutcome'>"
      ]
     },
     "execution_count": 70,
     "metadata": {},
     "output_type": "execute_result"
    },
    {
     "data": {
      "image/png": "[encoded data removed]",
      "text/plain": [
       "<Figure size 936x288 with 1 Axes>"
      ]
     },
     "metadata": {
      "needs_background": "light"
     },
     "output_type": "display_data"
    }
   ],
   "source": [
    "table = pd.pivot_table(file_read, values=['previous'], index='poutcome',\n",
    "                    columns=['y'], aggfunc='count')\n",
    "\n",
    "table.plot(kind='barh', legend=True, figsize=(13,4))"
   ]
  },
  {
   "cell_type": "code",
   "execution_count": 27,
   "id": "e721abc7",
   "metadata": {},
   "outputs": [
    {
     "data": {
      "text/plain": [
       "<AxesSubplot:xlabel='poutcome'>"
      ]
     },
     "execution_count": 27,
     "metadata": {},
     "output_type": "execute_result"
    },
    {
     "data": {
      "image/png": "[encoded data removed]",
      "text/plain": [
       "<Figure size 432x288 with 1 Axes>"
      ]
     },
     "metadata": {
      "needs_background": "light"
     },
     "output_type": "display_data"
    }
   ],
   "source": [
    "table1 = pd.pivot_table(file_read, values=['age'], index='poutcome',\n",
    "                    columns=['y'], aggfunc='count')\n",
    "\n",
    "table1.plot()"
   ]
  },
  {
   "cell_type": "markdown",
   "id": "2e695859",
   "metadata": {},
   "source": [
    "# Conclusion"
   ]
  },
  {
   "cell_type": "markdown",
   "id": "b76efe29",
   "metadata": {},
   "source": [
    "1. admin jobs have subscribed more for the deposits than people with any other profession\n",
    "2. People who are married are contacted more by the bank.\n",
    "4. Most people are contacted more in cellular than telephone.\n",
    "5. More people contacted on cellular by bank have subscribed the deposits offered by the bank than the ones contacted on telephone.\n",
    "6. People contacted by the bank with university degree as their educational qualification are more than the people with any other educational qualification. Bank has not contacted illiterate people.\n",
    "7. People with university degree as education qualification are the most who have subscribed for the deposits. They are also the most who have not subscribed for deposits.\n",
    "8. People contacted in May have higher chances to subscribe for longer term deposits\n",
    "9. Very few people from previous marketing strategy have subscribed for the deposits."
   ]
  }
 ],
 "metadata": {
  "kernelspec": {
   "display_name": "Python 3 (ipykernel)",
   "language": "python",
   "name": "python3"
  },
  "language_info": {
   "codemirror_mode": {
    "name": "ipython",
    "version": 3
   },
   "file_extension": ".py",
   "mimetype": "text/x-python",
   "name": "python",
   "nbconvert_exporter": "python",
   "pygments_lexer": "ipython3",
   "version": "3.9.7"
  }
 },
 "nbformat": 4,
 "nbformat_minor": 5
}
